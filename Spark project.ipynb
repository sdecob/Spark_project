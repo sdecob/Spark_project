{
 "cells": [
  {
   "cell_type": "markdown",
   "metadata": {},
   "source": [
    "# Spark Project "
   ]
  },
  {
   "cell_type": "markdown",
   "metadata": {},
   "source": [
    "We need to create the spark context"
   ]
  },
  {
   "cell_type": "code",
   "execution_count": 1,
   "metadata": {
    "collapsed": true
   },
   "outputs": [],
   "source": [
    "import pandas as pd\n",
    "from pyspark import SparkContext\n",
    "from pyspark.sql import SQLContext          "
   ]
  },
  {
   "cell_type": "code",
   "execution_count": 2,
   "metadata": {
    "collapsed": true
   },
   "outputs": [],
   "source": [
    "sc = SparkContext()\n",
    "sql_sc = SQLContext(sc)"
   ]
  },
  {
   "cell_type": "markdown",
   "metadata": {},
   "source": [
    "## Data preparation : "
   ]
  },
  {
   "cell_type": "markdown",
   "metadata": {},
   "source": [
    "#### Merge all the files"
   ]
  },
  {
   "cell_type": "code",
   "execution_count": 3,
   "metadata": {
    "collapsed": true
   },
   "outputs": [],
   "source": [
    "from shutil import copyfileobj\n",
    "with open('Price.csv','wb') as wfd:\n",
    "    for f in [\"Prix2014.csv\",'Prix2015.csv','Prix2016.csv']:\n",
    "        with open(f,'rb') as fd:\n",
    "            copyfileobj(fd, wfd, 1024*1024*10)"
   ]
  },
  {
   "cell_type": "code",
   "execution_count": 4,
   "metadata": {
    "collapsed": true
   },
   "outputs": [],
   "source": [
    "ddf = sql_sc.read.option('header', 'false').option('inferSchema', 'true').option('delimiter', ';').csv('Price.csv')"
   ]
  },
  {
   "cell_type": "code",
   "execution_count": 5,
   "metadata": {},
   "outputs": [
    {
     "name": "stdout",
     "output_type": "stream",
     "text": [
      "root\n",
      " |-- _c0: integer (nullable = true)\n",
      " |-- _c1: integer (nullable = true)\n",
      " |-- _c2: string (nullable = true)\n",
      " |-- _c3: double (nullable = true)\n",
      " |-- _c4: double (nullable = true)\n",
      " |-- _c5: timestamp (nullable = true)\n",
      " |-- _c6: integer (nullable = true)\n",
      " |-- _c7: string (nullable = true)\n",
      " |-- _c8: integer (nullable = true)\n",
      "\n"
     ]
    }
   ],
   "source": [
    "ddf.printSchema()"
   ]
  },
  {
   "cell_type": "markdown",
   "metadata": {},
   "source": [
    "The first thing to do is to change the columns names."
   ]
  },
  {
   "cell_type": "code",
   "execution_count": 6,
   "metadata": {
    "collapsed": true
   },
   "outputs": [],
   "source": [
    "from functools import reduce\n",
    "\n",
    "oldColumns = ddf.schema.names\n",
    "newColumns = [\"id\", \"cp\",\"pop\",\"latitude\",\"longitude\",\"date\",\"gas_id\",\"gas_label\",\"price\"]\n",
    "\n",
    "ddf = reduce(lambda ddf, idx: ddf.withColumnRenamed(oldColumns[idx], newColumns[idx]), range(len(oldColumns)), ddf)"
   ]
  },
  {
   "cell_type": "code",
   "execution_count": 7,
   "metadata": {},
   "outputs": [
    {
     "name": "stdout",
     "output_type": "stream",
     "text": [
      "root\n",
      " |-- id: integer (nullable = true)\n",
      " |-- cp: integer (nullable = true)\n",
      " |-- pop: string (nullable = true)\n",
      " |-- latitude: double (nullable = true)\n",
      " |-- longitude: double (nullable = true)\n",
      " |-- date: timestamp (nullable = true)\n",
      " |-- gas_id: integer (nullable = true)\n",
      " |-- gas_label: string (nullable = true)\n",
      " |-- price: integer (nullable = true)\n",
      "\n"
     ]
    }
   ],
   "source": [
    "ddf.printSchema()"
   ]
  },
  {
   "cell_type": "markdown",
   "metadata": {},
   "source": [
    "#### Check if the database has some issues"
   ]
  },
  {
   "cell_type": "code",
   "execution_count": 8,
   "metadata": {},
   "outputs": [
    {
     "data": {
      "text/plain": [
       "9401381"
      ]
     },
     "execution_count": 8,
     "metadata": {},
     "output_type": "execute_result"
    }
   ],
   "source": [
    "ddf.count()"
   ]
  },
  {
   "cell_type": "markdown",
   "metadata": {},
   "source": [
    "There are 9 401 381 rows in this dataset. We will check if the data base contains the value null and remove them if it is the case."
   ]
  },
  {
   "cell_type": "code",
   "execution_count": 7,
   "metadata": {},
   "outputs": [
    {
     "name": "stdout",
     "output_type": "stream",
     "text": [
      "+---+---+---+--------+---------+----+------+---------+-----+\n",
      "| id| cp|pop|latitude|longitude|date|gas_id|gas_label|price|\n",
      "+---+---+---+--------+---------+----+------+---------+-----+\n",
      "|  0|  0|  0|    9686|     9386|6586|  6586|     6586| 6586|\n",
      "+---+---+---+--------+---------+----+------+---------+-----+\n",
      "\n"
     ]
    }
   ],
   "source": [
    "from pyspark.sql.functions import isnull, when, count, col\n",
    "ddf.select([count(when(isnull(c), c)).alias(c) for c in ddf.columns]).show()"
   ]
  },
  {
   "cell_type": "markdown",
   "metadata": {},
   "source": [
    "The value null is associated to some variables as latitude longitude, date, gas_id,gas_label and price. We need to remove them."
   ]
  },
  {
   "cell_type": "code",
   "execution_count": 10,
   "metadata": {},
   "outputs": [
    {
     "data": {
      "text/plain": [
       "6586"
      ]
     },
     "execution_count": 10,
     "metadata": {},
     "output_type": "execute_result"
    }
   ],
   "source": [
    "ddf.filter(ddf.gas_id.isNull() & ddf.gas_label.isNull() & ddf.price.isNull()).count()"
   ]
  },
  {
   "cell_type": "markdown",
   "metadata": {},
   "source": [
    "We have checked that when there is the value null in gas_id, the value is also null in  gas_label and price. So if we remove in one of these columns then it will be remove in the other columns too."
   ]
  },
  {
   "cell_type": "code",
   "execution_count": 8,
   "metadata": {},
   "outputs": [
    {
     "data": {
      "text/plain": [
       "6586"
      ]
     },
     "execution_count": 8,
     "metadata": {},
     "output_type": "execute_result"
    }
   ],
   "source": [
    "ddf.filter(ddf.gas_id.isNull() & ddf.date.isNull()).count()"
   ]
  },
  {
   "cell_type": "markdown",
   "metadata": {},
   "source": [
    "We see that the value is null in gas_id, the value in date is also null. <br>\n",
    "<br>\n",
    "So to remove the null value in the columns date,gas_id,gas_label,price we need to remove just in one of these columns."
   ]
  },
  {
   "cell_type": "code",
   "execution_count": 12,
   "metadata": {},
   "outputs": [
    {
     "data": {
      "text/plain": [
       "9386"
      ]
     },
     "execution_count": 12,
     "metadata": {},
     "output_type": "execute_result"
    }
   ],
   "source": [
    "ddf.filter(ddf.longitude.isNull() & ddf.latitude.isNull()).count()"
   ]
  },
  {
   "cell_type": "markdown",
   "metadata": {},
   "source": [
    "We see if there is a missing value in longitude, there will be a missing value in latitude too but the inverse is not necessarly true. So we need to remove the missing values in latitude and then it will be remove in the longitude.  "
   ]
  },
  {
   "cell_type": "code",
   "execution_count": 13,
   "metadata": {},
   "outputs": [
    {
     "data": {
      "text/plain": [
       "228"
      ]
     },
     "execution_count": 13,
     "metadata": {},
     "output_type": "execute_result"
    }
   ],
   "source": [
    "ddf.filter(ddf.gas_id.isNull() & ddf.latitude.isNull()).count()"
   ]
  },
  {
   "cell_type": "markdown",
   "metadata": {},
   "source": [
    "We see that only 228 rows have an issue with the gas_id and the latitude and longitude so if we remove all the null we will remove 16044 (=9686+6586-228) rows. This number is not a lot compare to 9 millions rows. So we will do that."
   ]
  },
  {
   "cell_type": "code",
   "execution_count": 14,
   "metadata": {
    "collapsed": true
   },
   "outputs": [],
   "source": [
    "assert ddf.count()== ddf.filter(ddf.latitude.isNotNull()& ddf.date.isNotNull()).count()+ddf.filter(ddf.gas_id.isNull()).count()+ ddf.filter(ddf.latitude.isNull()).count()-ddf.filter(ddf.gas_id.isNull() & ddf.latitude.isNull()).count(),\"Problem\""
   ]
  },
  {
   "cell_type": "markdown",
   "metadata": {},
   "source": [
    "There is no \"Problem\".  So we will remove these 160444 rows ."
   ]
  },
  {
   "cell_type": "code",
   "execution_count": 8,
   "metadata": {
    "collapsed": true
   },
   "outputs": [],
   "source": [
    "ddf=ddf.filter(ddf.latitude.isNotNull()& ddf.date.isNotNull())"
   ]
  },
  {
   "cell_type": "markdown",
   "metadata": {},
   "source": [
    "#### Split data in year, month, weak of the year."
   ]
  },
  {
   "cell_type": "markdown",
   "metadata": {},
   "source": [
    "As sql queries will be use, the table needs to be register."
   ]
  },
  {
   "cell_type": "code",
   "execution_count": 9,
   "metadata": {
    "collapsed": true
   },
   "outputs": [],
   "source": [
    "ddf.registerTempTable(\"PRICES\")"
   ]
  },
  {
   "cell_type": "markdown",
   "metadata": {},
   "source": [
    "We can see how the date is written in the table : "
   ]
  },
  {
   "cell_type": "code",
   "execution_count": 27,
   "metadata": {},
   "outputs": [
    {
     "name": "stdout",
     "output_type": "stream",
     "text": [
      "+-------------------+\n",
      "|               date|\n",
      "+-------------------+\n",
      "|2014-01-02 11:08:03|\n",
      "|2014-01-04 09:54:03|\n",
      "|2014-01-05 10:27:09|\n",
      "|2014-01-06 09:07:51|\n",
      "|2014-01-07 09:23:56|\n",
      "+-------------------+\n",
      "only showing top 5 rows\n",
      "\n"
     ]
    }
   ],
   "source": [
    "sql_sc.sql(\"select date from PRICES \").show(5)"
   ]
  },
  {
   "cell_type": "markdown",
   "metadata": {},
   "source": [
    "We will use SQL functions to get the month, the year and the week of the year."
   ]
  },
  {
   "cell_type": "code",
   "execution_count": 10,
   "metadata": {
    "collapsed": true
   },
   "outputs": [],
   "source": [
    "ddf=sql_sc.sql(\"select PRICES.*,Year(date) AS Year,Month(date) AS Month,weekofyear(date) AS Week from PRICES\")"
   ]
  },
  {
   "cell_type": "code",
   "execution_count": 13,
   "metadata": {},
   "outputs": [
    {
     "name": "stdout",
     "output_type": "stream",
     "text": [
      "root\n",
      " |-- id: integer (nullable = true)\n",
      " |-- cp: integer (nullable = true)\n",
      " |-- pop: string (nullable = true)\n",
      " |-- latitude: double (nullable = true)\n",
      " |-- longitude: double (nullable = true)\n",
      " |-- date: timestamp (nullable = true)\n",
      " |-- gas_id: integer (nullable = true)\n",
      " |-- gas_label: string (nullable = true)\n",
      " |-- price: integer (nullable = true)\n",
      " |-- Year: integer (nullable = true)\n",
      " |-- Month: integer (nullable = true)\n",
      " |-- Week: integer (nullable = true)\n",
      "\n"
     ]
    }
   ],
   "source": [
    "ddf.printSchema()"
   ]
  },
  {
   "cell_type": "markdown",
   "metadata": {},
   "source": [
    "We see that the variables Year,Month and Week have been added."
   ]
  },
  {
   "cell_type": "code",
   "execution_count": 11,
   "metadata": {
    "collapsed": true
   },
   "outputs": [],
   "source": [
    "ddf.registerTempTable(\"PRICES\")"
   ]
  },
  {
   "cell_type": "markdown",
   "metadata": {},
   "source": [
    "#### Prepare latitude and longitude for mapping"
   ]
  },
  {
   "cell_type": "code",
   "execution_count": 20,
   "metadata": {},
   "outputs": [
    {
     "name": "stdout",
     "output_type": "stream",
     "text": [
      "+---------------+--------------+--------------+--------------+\n",
      "|  max(latitude)| min(latitude)|max(longitude)|min(longitude)|\n",
      "+---------------+--------------+--------------+--------------+\n",
      "|5546412.8983185|-2433288.11503| 6178073.52057|-6841787.14211|\n",
      "+---------------+--------------+--------------+--------------+\n",
      "\n"
     ]
    }
   ],
   "source": [
    "sql_sc.sql(\"select max(latitude),min(latitude), max(longitude),min(longitude) from PRICES\").show()"
   ]
  },
  {
   "cell_type": "markdown",
   "metadata": {},
   "source": [
    "The latitude must be a number between -90 and 90. <br>\n",
    "The longitude must be a number between -180 and 180.<br>\n",
    "\n",
    "So with the table we get previously, we deduce that we must multiply by 10E-5 for both of these quantities."
   ]
  },
  {
   "cell_type": "code",
   "execution_count": 22,
   "metadata": {},
   "outputs": [
    {
     "name": "stdout",
     "output_type": "stream",
     "text": [
      "+------------------+------------------+\n",
      "|           max_lat|          max_long|\n",
      "+------------------+------------------+\n",
      "|55.464128983185006|61.780735205700005|\n",
      "+------------------+------------------+\n",
      "\n"
     ]
    }
   ],
   "source": [
    "sql_sc.sql(\"select max(latitude*POWER(10,-5)) AS max_lat,max(longitude*POWER(10,-5)) AS max_long from PRICES \").show(5)\n"
   ]
  },
  {
   "cell_type": "code",
   "execution_count": 12,
   "metadata": {},
   "outputs": [
    {
     "name": "stdout",
     "output_type": "stream",
     "text": [
      "root\n",
      " |-- id: integer (nullable = true)\n",
      " |-- cp: integer (nullable = true)\n",
      " |-- pop: string (nullable = true)\n",
      " |-- latitude: double (nullable = true)\n",
      " |-- longitude: double (nullable = true)\n",
      " |-- date: timestamp (nullable = true)\n",
      " |-- gas_id: integer (nullable = true)\n",
      " |-- gas_label: string (nullable = true)\n",
      " |-- price: integer (nullable = true)\n",
      " |-- Year: integer (nullable = true)\n",
      " |-- Month: integer (nullable = true)\n",
      " |-- Week: integer (nullable = true)\n",
      " |-- Latitude: double (nullable = true)\n",
      " |-- Longitude: double (nullable = true)\n",
      "\n"
     ]
    }
   ],
   "source": [
    "ddf=sql_sc.sql(\"select PRICES.*,latitude*POWER(10,-5) AS Latitude, longitude*POWER(10,-5) AS Longitude from PRICES\")\n",
    "ddf.printSchema()"
   ]
  },
  {
   "cell_type": "markdown",
   "metadata": {},
   "source": [
    "We see that new columns have been added : Latitude and Longitude."
   ]
  },
  {
   "cell_type": "code",
   "execution_count": 13,
   "metadata": {
    "collapsed": true
   },
   "outputs": [],
   "source": [
    "ddf.registerTempTable(\"PRICES\")"
   ]
  },
  {
   "cell_type": "markdown",
   "metadata": {},
   "source": [
    "The data is available as a table under the name PRICES."
   ]
  },
  {
   "cell_type": "markdown",
   "metadata": {},
   "source": [
    "#### Price index for each station per week"
   ]
  },
  {
   "cell_type": "code",
   "execution_count": 25,
   "metadata": {},
   "outputs": [
    {
     "data": {
      "text/plain": [
       "6"
      ]
     },
     "execution_count": 25,
     "metadata": {},
     "output_type": "execute_result"
    }
   ],
   "source": [
    "ddf.select(\"gas_label\").distinct().count()"
   ]
  },
  {
   "cell_type": "markdown",
   "metadata": {},
   "source": [
    "We see that there are 6 different types of gaz sold."
   ]
  },
  {
   "cell_type": "code",
   "execution_count": 26,
   "metadata": {},
   "outputs": [
    {
     "name": "stdout",
     "output_type": "stream",
     "text": [
      "+---------+------+\n",
      "|gas_label|gas_id|\n",
      "+---------+------+\n",
      "|     SP98|     6|\n",
      "|     SP95|     2|\n",
      "|      E10|     5|\n",
      "|      E85|     3|\n",
      "|     GPLc|     4|\n",
      "|   Gazole|     1|\n",
      "+---------+------+\n",
      "\n"
     ]
    }
   ],
   "source": [
    "ddf.select(\"gas_label\",\"gas_id\").distinct().show()"
   ]
  },
  {
   "cell_type": "markdown",
   "metadata": {},
   "source": [
    "I will compute the mean of the price per week for each gas and associate it to a table \"MEAN_GAS_PRICES\" to be able to do queries on it."
   ]
  },
  {
   "cell_type": "code",
   "execution_count": 14,
   "metadata": {
    "collapsed": true
   },
   "outputs": [],
   "source": [
    "gas_avg=sql_sc.sql(\"select AVG(price) AS avg_price,Week,Year,gas_id from PRICES group by gas_id,Week,Year\") \n",
    "gas_avg.registerTempTable(\"MEAN_GAS_PRICES\")"
   ]
  },
  {
   "cell_type": "markdown",
   "metadata": {},
   "source": [
    "We can check if the result get by this function is coherent by checking if the number of results get by this function is equal to the sum of the number of weeks from the year 2014 to 2016."
   ]
  },
  {
   "cell_type": "code",
   "execution_count": 17,
   "metadata": {},
   "outputs": [
    {
     "data": {
      "text/plain": [
       "948"
      ]
     },
     "execution_count": 17,
     "metadata": {},
     "output_type": "execute_result"
    }
   ],
   "source": [
    "gas_avg.count()"
   ]
  },
  {
   "cell_type": "code",
   "execution_count": 11,
   "metadata": {},
   "outputs": [
    {
     "name": "stdout",
     "output_type": "stream",
     "text": [
      "+---------+\n",
      "|max(Week)|\n",
      "+---------+\n",
      "|       52|\n",
      "+---------+\n",
      "\n",
      "+---------+\n",
      "|max(Week)|\n",
      "+---------+\n",
      "|       53|\n",
      "+---------+\n",
      "\n",
      "+---------+\n",
      "|max(Week)|\n",
      "+---------+\n",
      "|       53|\n",
      "+---------+\n",
      "\n"
     ]
    }
   ],
   "source": [
    "ddf[ddf[\"Year\"]==2014].agg({\"Week\":\"max\"}).show()\n",
    "ddf[ddf[\"Year\"]==2015].agg({\"Week\":\"max\"}).show()\n",
    "ddf[ddf[\"Year\"]==2016].agg({\"Week\":\"max\"}).show()"
   ]
  },
  {
   "cell_type": "markdown",
   "metadata": {},
   "source": [
    "The year 2014 had 52 weeks, the year 2015 had 53 weeks and the year 2016 had 53 weeks. As there are 6 types of gas, the number of rows in gas_avg must be 6*(numbers of weeks in 2014,2015 and 2016). "
   ]
  },
  {
   "cell_type": "code",
   "execution_count": 291,
   "metadata": {
    "collapsed": true
   },
   "outputs": [],
   "source": [
    "assert gas_avg.count()==(52+53+53)*6,\"Problem\""
   ]
  },
  {
   "cell_type": "markdown",
   "metadata": {},
   "source": [
    "There is no \"Problem\" so the result seems good. <br>\n",
    "\n",
    "We can also check that the mean computing by the function correspond to the mean per gas type per week per year."
   ]
  },
  {
   "cell_type": "code",
   "execution_count": 28,
   "metadata": {},
   "outputs": [
    {
     "name": "stdout",
     "output_type": "stream",
     "text": [
      "+------------------+----+----+------+\n",
      "|         avg_price|Week|Year|gas_id|\n",
      "+------------------+----+----+------+\n",
      "|1404.0323498964804|   1|2014|     2|\n",
      "|  845.184855233853|   1|2014|     4|\n",
      "|1444.3778141235327|   1|2014|     6|\n",
      "| 889.9154929577464|   1|2014|     3|\n",
      "|1380.6963530655391|   1|2014|     5|\n",
      "|1222.1208775654636|   1|2014|     1|\n",
      "+------------------+----+----+------+\n",
      "\n",
      "+------------------+----+----+------+\n",
      "|         avg_price|Week|Year|gas_id|\n",
      "+------------------+----+----+------+\n",
      "| 1551.755705832629|   2|2014|     6|\n",
      "| 1333.624184460261|   2|2014|     1|\n",
      "| 913.2693032015065|   2|2014|     3|\n",
      "|  858.315913094539|   2|2014|     4|\n",
      "|1487.0909613450208|   2|2014|     5|\n",
      "|  1509.02585499316|   2|2014|     2|\n",
      "+------------------+----+----+------+\n",
      "\n",
      "+------------------+----+----+------+\n",
      "|         avg_price|Week|Year|gas_id|\n",
      "+------------------+----+----+------+\n",
      "|1339.5928267855293|   2|2015|     6|\n",
      "| 870.5302491103203|   2|2015|     3|\n",
      "| 1131.053119567317|   2|2015|     1|\n",
      "| 1289.806632470476|   2|2015|     2|\n",
      "| 834.2973782771536|   2|2015|     4|\n",
      "|1280.1612485615651|   2|2015|     5|\n",
      "+------------------+----+----+------+\n",
      "\n"
     ]
    }
   ],
   "source": [
    "gas_avg[(gas_avg[\"Week\"]==1) & (gas_avg[\"Year\"]==2014)].show()\n",
    "gas_avg[(gas_avg[\"Week\"]==2) & (gas_avg[\"Year\"]==2014)].show()\n",
    "gas_avg[(gas_avg[\"Week\"]==2) & (gas_avg[\"Year\"]==2015)].show()"
   ]
  },
  {
   "cell_type": "markdown",
   "metadata": {},
   "source": [
    "For each query, we have 6 results wich correspond to the 6 types of gas. The result is different according the week and the year so the result seems good. <br>\n",
    "\n",
    "Now, we add to the original table, the column avg_price. To do that we make an inner join on the variable week and year. "
   ]
  },
  {
   "cell_type": "code",
   "execution_count": 15,
   "metadata": {
    "collapsed": true
   },
   "outputs": [],
   "source": [
    "ddf=sql_sc.sql(\"select PRICES.*,MEAN_GAS_PRICES.avg_price from PRICES inner join  MEAN_GAS_PRICES on PRICES.Year=MEAN_GAS_PRICES.Year and MEAN_GAS_PRICES.Week=PRICES.Week and MEAN_GAS_PRICES.gas_id=PRICES.gas_id\")"
   ]
  },
  {
   "cell_type": "code",
   "execution_count": 16,
   "metadata": {
    "collapsed": true
   },
   "outputs": [],
   "source": [
    "ddf.registerTempTable(\"PRICES\")"
   ]
  },
  {
   "cell_type": "code",
   "execution_count": 15,
   "metadata": {},
   "outputs": [
    {
     "name": "stdout",
     "output_type": "stream",
     "text": [
      "+-----+------------------+------+\n",
      "|price|         avg_price|gas_id|\n",
      "+-----+------------------+------+\n",
      "| 1179|1222.1208775654636|     1|\n",
      "| 1124|1222.1208775654636|     1|\n",
      "| 1083|1222.1208775654636|     1|\n",
      "| 1232|1222.1208775654636|     1|\n",
      "| 1029|1222.1208775654636|     1|\n",
      "+-----+------------------+------+\n",
      "only showing top 5 rows\n",
      "\n"
     ]
    }
   ],
   "source": [
    "sql_sc.sql(\"select price,avg_price,gas_id from PRICES where Week=1  and Year=2014 and gas_id=1\").distinct().show(5)"
   ]
  },
  {
   "cell_type": "markdown",
   "metadata": {},
   "source": [
    "We see that for the same week and same year, there are different prices but the same mean so it is working.<br>\n",
    "\n",
    "So now we can compute the price index thanks to the formula given in the pdf and add the result in a column called Price_index."
   ]
  },
  {
   "cell_type": "code",
   "execution_count": 17,
   "metadata": {
    "collapsed": true
   },
   "outputs": [],
   "source": [
    "ddf=sql_sc.sql(\"select PRICES.*,100*(((price -avg_price)/avg_price)+1) AS Price_index,price,Week from PRICES\" )"
   ]
  },
  {
   "cell_type": "code",
   "execution_count": 18,
   "metadata": {
    "collapsed": true
   },
   "outputs": [],
   "source": [
    "ddf.registerTempTable(\"PRICES\")"
   ]
  },
  {
   "cell_type": "markdown",
   "metadata": {
    "collapsed": true
   },
   "source": [
    "#### Week Index"
   ]
  },
  {
   "cell_type": "markdown",
   "metadata": {},
   "source": [
    "First we create a table which contains only the index, the week and the year to see if the sql query is working."
   ]
  },
  {
   "cell_type": "code",
   "execution_count": 18,
   "metadata": {
    "collapsed": true
   },
   "outputs": [],
   "source": [
    "ddf_essai=sql_sc.sql(\"select case when Year=2014 then Week when Year=2015 then Week+52 when Year=2016 then Week+52+53 END AS Index,Week,Year from PRICES\")\n"
   ]
  },
  {
   "cell_type": "code",
   "execution_count": 31,
   "metadata": {},
   "outputs": [
    {
     "name": "stdout",
     "output_type": "stream",
     "text": [
      "+-----+----+----+\n",
      "|Index|Week|Year|\n",
      "+-----+----+----+\n",
      "|   53|   1|2015|\n",
      "|  106|   1|2016|\n",
      "|    1|   1|2014|\n",
      "+-----+----+----+\n",
      "\n"
     ]
    }
   ],
   "source": [
    "ddf_essai[ddf_essai[\"Week\"]==1].distinct().show(5)"
   ]
  },
  {
   "cell_type": "markdown",
   "metadata": {},
   "source": [
    "For the week 1 for each year, the index is different and correspond to what we want. So it is working. <br>\n",
    "We add this column to our table."
   ]
  },
  {
   "cell_type": "code",
   "execution_count": 19,
   "metadata": {
    "collapsed": true
   },
   "outputs": [],
   "source": [
    "ddf=sql_sc.sql(\"select case when Year=2014 then Week when Year=2015 then Week+52 when Year=2016 then Week+52+53 END AS Index,* from PRICES\")\n",
    "ddf.registerTempTable(\"PRICES\")"
   ]
  },
  {
   "cell_type": "markdown",
   "metadata": {},
   "source": [
    "## Data visualization : "
   ]
  },
  {
   "cell_type": "code",
   "execution_count": 20,
   "metadata": {
    "collapsed": true
   },
   "outputs": [],
   "source": [
    "import numpy as np\n",
    "import matplotlib.pyplot as plt\n",
    "import seaborn as sns"
   ]
  },
  {
   "cell_type": "markdown",
   "metadata": {},
   "source": [
    "To do graph, we need to import the pyspark object in python thanks to panda. As we only need of the gas type,the average price and the index we will import only these variables."
   ]
  },
  {
   "cell_type": "code",
   "execution_count": 21,
   "metadata": {
    "collapsed": true
   },
   "outputs": [],
   "source": [
    "df=ddf.select(\"Index\",\"avg_price\",\"gas_label\").distinct().toPandas()"
   ]
  },
  {
   "cell_type": "code",
   "execution_count": 47,
   "metadata": {},
   "outputs": [
    {
     "name": "stderr",
     "output_type": "stream",
     "text": [
      "/home/solenn/anaconda3/lib/python3.6/site-packages/seaborn/timeseries.py:183: UserWarning: The tsplot function is deprecated and will be removed or replaced (in a substantially altered version) in a future release.\n",
      "  warnings.warn(msg, UserWarning)\n"
     ]
    },
    {
     "data": {
      "image/png": "[encoded data removed]",
      "text/plain": [
       "<matplotlib.figure.Figure at 0x7fa8682590b8>"
      ]
     },
     "metadata": {},
     "output_type": "display_data"
    }
   ],
   "source": [
    "week_index, gas_label= np.meshgrid(np.arange(158), np.arange(1,6))\n",
    "plt.figure(figsize=(12,10))\n",
    "sns.tsplot(df, time='Index', unit = \"gas_label\", \n",
    "               condition='gas_label', value='avg_price')\n",
    "plt.show()"
   ]
  },
  {
   "cell_type": "markdown",
   "metadata": {},
   "source": [
    "Normally we should take in account the price index because it's the evolution during a period."
   ]
  },
  {
   "cell_type": "markdown",
   "metadata": {},
   "source": [
    "#### heatmaps of price indexes"
   ]
  },
  {
   "cell_type": "markdown",
   "metadata": {},
   "source": [
    "As before, as we want to have a graph, we need to import our variables of interest into Pandas."
   ]
  },
  {
   "cell_type": "code",
   "execution_count": 215,
   "metadata": {
    "collapsed": true
   },
   "outputs": [],
   "source": [
    "df1=ddf.select(\"Index\",\"gas_label\",\"Price_index\").distinct().toPandas()"
   ]
  },
  {
   "cell_type": "markdown",
   "metadata": {},
   "source": [
    "There is several values for each gas each week because there are several station services in the dataset. So to have only one value for each week, we compute the mean."
   ]
  },
  {
   "cell_type": "code",
   "execution_count": 216,
   "metadata": {
    "collapsed": true
   },
   "outputs": [],
   "source": [
    "df1=df1.groupby(['gas_label', 'Index'], as_index=False).mean()"
   ]
  },
  {
   "cell_type": "code",
   "execution_count": 217,
   "metadata": {
    "collapsed": true
   },
   "outputs": [],
   "source": [
    "import numpy as np\n",
    "from pandas import DataFrame\n",
    "import seaborn as sns"
   ]
  },
  {
   "cell_type": "markdown",
   "metadata": {},
   "source": [
    "Then we need to transform the data in the right format to plot the heatmap."
   ]
  },
  {
   "cell_type": "code",
   "execution_count": 218,
   "metadata": {
    "collapsed": true
   },
   "outputs": [],
   "source": [
    "first_gas=df1[df1[\"gas_label\"]==\"E10\"].sort_values(by=['gas_label',\"Index\"])\n",
    "second_gas=df1[df1[\"gas_label\"]==\"Gazole\"].sort_values(by=['gas_label',\"Index\"])\n",
    "third_gas=df1[df1[\"gas_label\"]==\"GPLc\"].sort_values(by=['gas_label',\"Index\"])\n",
    "fourth_gas=df1[df1[\"gas_label\"]==\"E85\"].sort_values(by=['gas_label',\"Index\"])\n",
    "fifth_gas=df1[df1[\"gas_label\"]==\"SP95\"].sort_values(by=['gas_label',\"Index\"])\n",
    "sixth_gas=df1[df1[\"gas_label\"]==\"SP98\"].sort_values(by=['gas_label',\"Index\"])\n"
   ]
  },
  {
   "cell_type": "code",
   "execution_count": 219,
   "metadata": {},
   "outputs": [],
   "source": [
    "plot_1=np.array([first_gas[\"Price_index\"].values,second_gas[\"Price_index\"].values,third_gas[\"Price_index\"].values,fourth_gas[\"Price_index\"].values,fifth_gas[\"Price_index\"].values,sixth_gas[\"Price_index\"].values])\n",
    "x=[plot_1[0].tolist(),plot_1[1].tolist(),plot_1[2].tolist(),plot_1[3].tolist(),plot_1[4].tolist(),plot_1[5].tolist()]\n",
    "df_plot=DataFrame(x,index=[\"E10\",\"Gazole\",\"GPLc\",\"E85\",\"SP95\",\"SP98\"],columns=df1[\"Index\"].sort_values().unique()) "
   ]
  },
  {
   "cell_type": "code",
   "execution_count": 220,
   "metadata": {},
   "outputs": [
    {
     "data": {
      "text/plain": [
       "<matplotlib.axes._subplots.AxesSubplot at 0x7f896ec09f60>"
      ]
     },
     "execution_count": 220,
     "metadata": {},
     "output_type": "execute_result"
    },
    {
     "data": {
      "image/png": "[encoded data removed]",
      "text/plain": [
       "<matplotlib.figure.Figure at 0x7f8970f7cef0>"
      ]
     },
     "metadata": {},
     "output_type": "display_data"
    }
   ],
   "source": [
    "sns.heatmap(df_plot,annot=True)     "
   ]
  },
  {
   "cell_type": "markdown",
   "metadata": {},
   "source": [
    "## Modeling : option 1"
   ]
  },
  {
   "cell_type": "markdown",
   "metadata": {},
   "source": [
    "#### Build a model to forecast the price of a given gas for the next week :"
   ]
  },
  {
   "cell_type": "code",
   "execution_count": 23,
   "metadata": {
    "collapsed": true
   },
   "outputs": [],
   "source": [
    "from pyspark.sql.functions import lag\n",
    "from pyspark.sql.window import Window\n",
    "from pyspark.ml.regression import LinearRegression\n",
    "from pyspark.ml.linalg import DenseVector"
   ]
  },
  {
   "cell_type": "markdown",
   "metadata": {},
   "source": [
    "We are interested only by the the week index, the avg price (of the week) and the gas_id. Then we will create a dataframe with these variables and the price of the week before and 2 weeks before. "
   ]
  },
  {
   "cell_type": "code",
   "execution_count": 24,
   "metadata": {
    "collapsed": true
   },
   "outputs": [],
   "source": [
    "ddf1=ddf.select(\"avg_price\",\"Index\",\"gas_id\").distinct()\n",
    "\n",
    "w = Window().partitionBy(\"gas_id\").orderBy(\"Index\")\n",
    "\n",
    "ddf1 = ddf1.withColumn(\"price_last_week\", lag(\"avg_price\", 1).over(w))\n",
    "ddf1 = ddf1.withColumn(\"price_2_weeks_bef\", lag(\"avg_price\", 2).over(w))"
   ]
  },
  {
   "cell_type": "code",
   "execution_count": 25,
   "metadata": {},
   "outputs": [
    {
     "name": "stdout",
     "output_type": "stream",
     "text": [
      "+------------------+-----+------+------------------+------------------+\n",
      "|         avg_price|Index|gas_id|   price_last_week| price_2_weeks_bef|\n",
      "+------------------+-----+------+------------------+------------------+\n",
      "|1222.1208775654636|    1|     1|              null|              null|\n",
      "| 1333.624184460261|    2|     1|1222.1208775654636|              null|\n",
      "|1323.5956594071386|    3|     1| 1333.624184460261|1222.1208775654636|\n",
      "|1323.0351362683439|    4|     1|1323.5956594071386| 1333.624184460261|\n",
      "|1324.1694572217111|    5|     1|1323.0351362683439|1323.5956594071386|\n",
      "+------------------+-----+------+------------------+------------------+\n",
      "only showing top 5 rows\n",
      "\n"
     ]
    }
   ],
   "source": [
    "ddf1.show(5)"
   ]
  },
  {
   "cell_type": "markdown",
   "metadata": {},
   "source": [
    "For each gas, the rows corresponding to the two first weeks will have at least one null value. To do the regression we need to delete them. "
   ]
  },
  {
   "cell_type": "code",
   "execution_count": 26,
   "metadata": {
    "collapsed": true
   },
   "outputs": [],
   "source": [
    "ddf1=ddf1.filter(ddf1.price_2_weeks_bef.isNotNull())"
   ]
  },
  {
   "cell_type": "code",
   "execution_count": 27,
   "metadata": {},
   "outputs": [
    {
     "name": "stdout",
     "output_type": "stream",
     "text": [
      "root\n",
      " |-- avg_price: double (nullable = true)\n",
      " |-- Index: integer (nullable = true)\n",
      " |-- gas_id: integer (nullable = true)\n",
      " |-- price_last_week: double (nullable = true)\n",
      " |-- price_2_weeks_bef: double (nullable = true)\n",
      "\n"
     ]
    }
   ],
   "source": [
    "ddf1.printSchema()"
   ]
  },
  {
   "cell_type": "markdown",
   "metadata": {},
   "source": [
    "First I will construct my forecasting model for the gas_type equal to 1 (so it is the Gazole)."
   ]
  },
  {
   "cell_type": "code",
   "execution_count": 28,
   "metadata": {
    "collapsed": true
   },
   "outputs": [],
   "source": [
    "ddf1=ddf1[ddf1[\"gas_id\"]==1]"
   ]
  },
  {
   "cell_type": "code",
   "execution_count": 29,
   "metadata": {},
   "outputs": [
    {
     "name": "stdout",
     "output_type": "stream",
     "text": [
      "+------------------+-----+------+------------------+------------------+\n",
      "|         avg_price|Index|gas_id|   price_last_week| price_2_weeks_bef|\n",
      "+------------------+-----+------+------------------+------------------+\n",
      "|1323.5956594071386|    3|     1| 1333.624184460261|1222.1208775654636|\n",
      "|1323.0351362683439|    4|     1|1323.5956594071386| 1333.624184460261|\n",
      "|1324.1694572217111|    5|     1|1323.0351362683439|1323.5956594071386|\n",
      "|  1320.71409848343|    6|     1|1324.1694572217111|1323.0351362683439|\n",
      "|1328.5639078498293|    7|     1|  1320.71409848343|1324.1694572217111|\n",
      "+------------------+-----+------+------------------+------------------+\n",
      "only showing top 5 rows\n",
      "\n"
     ]
    }
   ],
   "source": [
    "ddf1.show(5)"
   ]
  },
  {
   "cell_type": "markdown",
   "metadata": {},
   "source": [
    "Now we need to combine the features in one unique variable. To do that, we create a dataframe thanks to the sparkSession and we put the avg_price as label and price_last_week and price_2_weeks_bef as features. Then we will initialize the linear regression."
   ]
  },
  {
   "cell_type": "code",
   "execution_count": 30,
   "metadata": {
    "collapsed": true
   },
   "outputs": [],
   "source": [
    "from pyspark.sql import SparkSession\n",
    "\n",
    "spark = SparkSession.builder \\\n",
    "   .master(\"local\") \\\n",
    "   .appName(\"Linear Regression Model\") \\\n",
    "   .config(\"spark.executor.memory\", \"1gb\") \\\n",
    "   .getOrCreate()\n",
    "   "
   ]
  },
  {
   "cell_type": "code",
   "execution_count": 31,
   "metadata": {
    "collapsed": true
   },
   "outputs": [],
   "source": [
    "# create dataframe composed of label and features.\n",
    "data = ddf1.rdd.map(lambda x: (x[0], DenseVector(x[3:])))\n",
    "ddf2 = spark.createDataFrame(data, [\"label\", \"features\"])"
   ]
  },
  {
   "cell_type": "code",
   "execution_count": 32,
   "metadata": {},
   "outputs": [
    {
     "name": "stdout",
     "output_type": "stream",
     "text": [
      "+------------------+--------------------+\n",
      "|             label|            features|\n",
      "+------------------+--------------------+\n",
      "|1323.5956594071386|[1333.62418446026...|\n",
      "|1323.0351362683439|[1323.59565940713...|\n",
      "|1324.1694572217111|[1323.03513626834...|\n",
      "|  1320.71409848343|[1324.16945722171...|\n",
      "|1328.5639078498293|[1320.71409848343...|\n",
      "+------------------+--------------------+\n",
      "only showing top 5 rows\n",
      "\n"
     ]
    }
   ],
   "source": [
    "ddf2.show(5)"
   ]
  },
  {
   "cell_type": "code",
   "execution_count": 36,
   "metadata": {
    "collapsed": true
   },
   "outputs": [],
   "source": [
    "# Initialize `linear regression\n",
    "lr = LinearRegression(labelCol=\"label\")"
   ]
  },
  {
   "cell_type": "markdown",
   "metadata": {},
   "source": [
    "Before testing the model, we need to create two samples : the training sample to construct the model and the test sample to validate the model."
   ]
  },
  {
   "cell_type": "code",
   "execution_count": 37,
   "metadata": {
    "collapsed": true
   },
   "outputs": [],
   "source": [
    "train_ddf2,test_ddf2 = ddf2.randomSplit([0.7,0.3])"
   ]
  },
  {
   "cell_type": "markdown",
   "metadata": {},
   "source": [
    "We can check if it's coherent : "
   ]
  },
  {
   "cell_type": "code",
   "execution_count": 34,
   "metadata": {
    "collapsed": true
   },
   "outputs": [],
   "source": [
    "assert ddf2.count()==train_ddf2.count()+ test_ddf2.count(),\"Problem\"  "
   ]
  },
  {
   "cell_type": "markdown",
   "metadata": {},
   "source": [
    "If we want to use the function pipeline we can do : "
   ]
  },
  {
   "cell_type": "code",
   "execution_count": 38,
   "metadata": {},
   "outputs": [
    {
     "data": {
      "text/plain": [
       "'predictions'"
      ]
     },
     "metadata": {},
     "output_type": "display_data"
    },
    {
     "data": {
      "text/plain": [
       "[(1016.9268644537963, 1005.5529539616676),\n",
       " (1038.0229387723527, 1013.2293068704612),\n",
       " (1061.5019353600483, 1020.0784404888417),\n",
       " (1033.3722085348961, 1023.3101323407775),\n",
       " (1011.0049675847948, 1054.4851302708262)]"
      ]
     },
     "metadata": {},
     "output_type": "display_data"
    },
    {
     "data": {
      "text/plain": [
       "'Coefficients for the model are '"
      ]
     },
     "metadata": {},
     "output_type": "display_data"
    },
    {
     "data": {
      "text/plain": [
       "DenseVector([1.1512, -0.1803])"
      ]
     },
     "metadata": {},
     "output_type": "display_data"
    }
   ],
   "source": [
    "from pyspark.ml import Pipeline\n",
    "\n",
    "pipeline= Pipeline(stages=[lr]) \n",
    "linearModel=pipeline.fit(train_ddf2)\n",
    "\n",
    "# Generate predictions\n",
    "predicted = linearModel.transform(test_ddf2)\n",
    "\n",
    "# Extract the predictions and the \"known\" correct labels\n",
    "predictions = predicted.select(\"prediction\").rdd.map(lambda x: x[0])\n",
    "labels = predicted.select(\"label\").rdd.map(lambda x: x[0])\n",
    "\n",
    "# put predictions and labels into a list\n",
    "predictionAndLabel = predictions.zip(labels).collect()\n",
    "\n",
    "# Print out first 5 instances of `predictionAndLabel` \n",
    "display(\"predictions\",predictionAndLabel[:5])\n",
    "\n",
    "# Coefficients for the model\n",
    "display(\"Coefficients for the model are \",linearModel.stages[0].coefficients)"
   ]
  },
  {
   "cell_type": "markdown",
   "metadata": {},
   "source": [
    "But as there is only one step in this pipeline,it's not very useful. That's why I don't use the pipeline to have more results about the linear regression easily : "
   ]
  },
  {
   "cell_type": "code",
   "execution_count": 39,
   "metadata": {
    "collapsed": true
   },
   "outputs": [],
   "source": [
    "# Fit the data to the model\n",
    "linearModel = lr.fit(train_ddf2)"
   ]
  },
  {
   "cell_type": "code",
   "execution_count": 41,
   "metadata": {},
   "outputs": [
    {
     "data": {
      "text/plain": [
       "'prediction'"
      ]
     },
     "metadata": {},
     "output_type": "display_data"
    },
    {
     "data": {
      "text/plain": [
       "[(1016.9268644537963, 1005.5529539616676),\n",
       " (1038.0229387723527, 1013.2293068704612),\n",
       " (1061.5019353600483, 1020.0784404888417),\n",
       " (1033.3722085348961, 1023.3101323407775),\n",
       " (1011.0049675847948, 1054.4851302708262)]"
      ]
     },
     "metadata": {},
     "output_type": "display_data"
    },
    {
     "data": {
      "text/plain": [
       "'Coefficients for the model are '"
      ]
     },
     "metadata": {},
     "output_type": "display_data"
    },
    {
     "data": {
      "text/plain": [
       "DenseVector([1.1512, -0.1803])"
      ]
     },
     "metadata": {},
     "output_type": "display_data"
    },
    {
     "data": {
      "text/plain": [
       "'We notice that it is exactly the same results than before so we can continue'"
      ]
     },
     "metadata": {},
     "output_type": "display_data"
    }
   ],
   "source": [
    "# Generate predictions\n",
    "predicted = linearModel.transform(test_ddf2)\n",
    "\n",
    "# Extract the predictions and the \"known\" correct labels\n",
    "predictions = predicted.select(\"prediction\").rdd.map(lambda x: x[0])\n",
    "labels = predicted.select(\"label\").rdd.map(lambda x: x[0])\n",
    "\n",
    "# put predictions and labels into a list\n",
    "predictionAndLabel = predictions.zip(labels).collect()\n",
    "\n",
    "# Print out first 5 instances of `predictionAndLabel` \n",
    "display(\"prediction\",predictionAndLabel[:5])\n",
    "\n",
    "# Coefficients for the model\n",
    "display(\"Coefficients for the model are \",linearModel.coefficients)\n",
    "\n",
    "display(\"We notice that it is exactly the same results than before so we can continue\")"
   ]
  },
  {
   "cell_type": "markdown",
   "metadata": {},
   "source": [
    "#### Evaluation of the model : "
   ]
  },
  {
   "cell_type": "code",
   "execution_count": 217,
   "metadata": {},
   "outputs": [
    {
     "data": {
      "text/plain": [
       "'Coefficients for the model are '"
      ]
     },
     "metadata": {},
     "output_type": "display_data"
    },
    {
     "data": {
      "text/plain": [
       "DenseVector([1.2159, -0.2569])"
      ]
     },
     "metadata": {},
     "output_type": "display_data"
    },
    {
     "data": {
      "text/plain": [
       "'The intercept for the model is'"
      ]
     },
     "metadata": {},
     "output_type": "display_data"
    },
    {
     "data": {
      "text/plain": [
       "46.316227196815184"
      ]
     },
     "metadata": {},
     "output_type": "display_data"
    },
    {
     "data": {
      "text/plain": [
       "'The root Mean Squared Error is'"
      ]
     },
     "metadata": {},
     "output_type": "display_data"
    },
    {
     "data": {
      "text/plain": [
       "21.699364107472547"
      ]
     },
     "metadata": {},
     "output_type": "display_data"
    },
    {
     "data": {
      "text/plain": [
       "'The R2 is'"
      ]
     },
     "metadata": {},
     "output_type": "display_data"
    },
    {
     "data": {
      "text/plain": [
       "0.9430064535160776"
      ]
     },
     "metadata": {},
     "output_type": "display_data"
    }
   ],
   "source": [
    "# Coefficients for the model\n",
    "display(\"Coefficients for the model are \",linearModel.coefficients)\n",
    "\n",
    "# Intercept for the model\n",
    "display(\"The intercept for the model is\",linearModel.intercept)\n",
    "\n",
    "# Get the RMSE\n",
    "display(\"The root Mean Squared Error is\",linearModel.summary.rootMeanSquaredError)\n",
    "\n",
    "# Get the R2\n",
    "display(\"The R2 is\",linearModel.summary.r2)"
   ]
  },
  {
   "cell_type": "markdown",
   "metadata": {},
   "source": [
    "The R2 find is very good so the model is working fine. <br>\n",
    "\n",
    "Now we can plot the forecast and the real price. "
   ]
  },
  {
   "cell_type": "code",
   "execution_count": 42,
   "metadata": {},
   "outputs": [
    {
     "data": {
      "text/plain": [
       "Text(0,0.5,'forecast value')"
      ]
     },
     "execution_count": 42,
     "metadata": {},
     "output_type": "execute_result"
    },
    {
     "data": {
      "image/png": "[encoded data removed]",
      "text/plain": [
       "<matplotlib.figure.Figure at 0x7f897cf92518>"
      ]
     },
     "metadata": {},
     "output_type": "display_data"
    }
   ],
   "source": [
    "% matplotlib inline  \n",
    "plt.figure(figsize=(12,10))\n",
    "\n",
    "plt.scatter(predictions.collect(),labels.collect())\n",
    "x=range(1000,1400)\n",
    "plt.plot(x, x, color='red')\n",
    "plt.title(\"Correlation between real price and forecast price\")\n",
    "plt.xlabel(\"real value\")\n",
    "plt.ylabel(\"forecast value\")"
   ]
  },
  {
   "cell_type": "markdown",
   "metadata": {},
   "source": [
    "The actual and the forecast prices are very correlated so it proofs again that the model found is very good."
   ]
  },
  {
   "cell_type": "markdown",
   "metadata": {},
   "source": [
    "We can do it for every gas and see if predict the next week thanks to the week before and 2 weeks before is enough for every type of gas."
   ]
  },
  {
   "cell_type": "code",
   "execution_count": 272,
   "metadata": {
    "collapsed": true
   },
   "outputs": [],
   "source": [
    "ddf_1=ddf.select(\"avg_price\",\"Index\",\"gas_id\").distinct()\n",
    "w = Window().partitionBy(\"gas_id\").orderBy(\"Index\")\n",
    "\n",
    "#-------------------------gas 1\n",
    "ddf1=ddf_1[ddf_1[\"gas_id\"]==1]\n",
    "ddf1 = ddf1.withColumn(\"price_last_week\", lag(\"avg_price\", 1).over(w))\n",
    "ddf1 = ddf1.withColumn(\"price_2_weeks_bef\", lag(\"avg_price\", 2).over(w))\n",
    "ddf1=ddf1.filter(ddf1.price_2_weeks_bef.isNotNull())\n",
    "# create dataframe composed of label and features.\n",
    "data = ddf1.rdd.map(lambda x: (x[0], DenseVector(x[3:])))\n",
    "ddf2 = spark.createDataFrame(data, [\"label\", \"features\"])\n",
    "# Initialize `linear regression\n",
    "lr = LinearRegression(labelCol=\"label\")\n",
    "train_ddf2,test_ddf2 = ddf2.randomSplit([0.7,0.3])\n",
    "# Fit the data to the model\n",
    "linearModel = lr.fit(train_ddf2)\n",
    "# Generate predictions\n",
    "predicted = linearModel.transform(test_ddf2)\n",
    "# Extract the predictions and the \"known\" correct labels\n",
    "predictions_1 =predicted.select(\"prediction\").rdd.map(lambda x: x[0])\n",
    "labels_1 =predicted.select(\"label\").rdd.map(lambda x: x[0])\n",
    "\n",
    "\n",
    "#-------------------------gas 2\n",
    "ddf1=ddf_1[ddf_1[\"gas_id\"]==2]\n",
    "ddf1 = ddf1.withColumn(\"price_last_week\", lag(\"avg_price\", 1).over(w))\n",
    "ddf1 = ddf1.withColumn(\"price_2_weeks_bef\", lag(\"avg_price\", 2).over(w))\n",
    "ddf1=ddf1.filter(ddf1.price_2_weeks_bef.isNotNull())\n",
    "# create dataframe composed of label and features.\n",
    "data = ddf1.rdd.map(lambda x: (x[0], DenseVector(x[3:])))\n",
    "ddf2 = spark.createDataFrame(data, [\"label\", \"features\"])\n",
    "# Initialize `linear regression\n",
    "lr = LinearRegression(labelCol=\"label\")\n",
    "train_ddf2,test_ddf2 = ddf2.randomSplit([0.7,0.3])\n",
    "# Fit the data to the model\n",
    "linearModel = lr.fit(train_ddf2)\n",
    "# Generate predictions\n",
    "predicted = linearModel.transform(test_ddf2)\n",
    "# Extract the predictions and the \"known\" correct labels\n",
    "predictions_2=predicted.select(\"prediction\").rdd.map(lambda x: x[0])\n",
    "labels_2=predicted.select(\"label\").rdd.map(lambda x: x[0])\n",
    "\n",
    "#-------------------------gas 3\n",
    "ddf1=ddf_1[ddf_1[\"gas_id\"]==3]\n",
    "ddf1 = ddf1.withColumn(\"price_last_week\", lag(\"avg_price\", 1).over(w))\n",
    "ddf1 = ddf1.withColumn(\"price_2_weeks_bef\", lag(\"avg_price\", 2).over(w))\n",
    "ddf1=ddf1.filter(ddf1.price_2_weeks_bef.isNotNull())\n",
    "# create dataframe composed of label and features.\n",
    "data = ddf1.rdd.map(lambda x: (x[0], DenseVector(x[3:])))\n",
    "ddf2 = spark.createDataFrame(data, [\"label\", \"features\"])\n",
    "# Initialize `linear regression\n",
    "lr = LinearRegression(labelCol=\"label\")\n",
    "train_ddf2,test_ddf2 = ddf2.randomSplit([0.7,0.3])\n",
    "# Fit the data to the model\n",
    "linearModel = lr.fit(train_ddf2)\n",
    "# Generate predictions\n",
    "predicted = linearModel.transform(test_ddf2)\n",
    "# Extract the predictions and the \"known\" correct labels\n",
    "predictions_3=predicted.select(\"prediction\").rdd.map(lambda x: x[0])\n",
    "labels_3=predicted.select(\"label\").rdd.map(lambda x: x[0])\n",
    "\n",
    "#-------------------------gas 4\n",
    "ddf1=ddf_1[ddf_1[\"gas_id\"]==4]\n",
    "ddf1 = ddf1.withColumn(\"price_last_week\", lag(\"avg_price\", 1).over(w))\n",
    "ddf1 = ddf1.withColumn(\"price_2_weeks_bef\", lag(\"avg_price\", 2).over(w))\n",
    "ddf1=ddf1.filter(ddf1.price_2_weeks_bef.isNotNull())\n",
    "# create dataframe composed of label and features.\n",
    "data = ddf1.rdd.map(lambda x: (x[0], DenseVector(x[3:])))\n",
    "ddf2 = spark.createDataFrame(data, [\"label\", \"features\"])\n",
    "# Initialize `linear regression\n",
    "lr = LinearRegression(labelCol=\"label\")\n",
    "train_ddf2,test_ddf2 = ddf2.randomSplit([0.7,0.3])\n",
    "# Fit the data to the model\n",
    "linearModel = lr.fit(train_ddf2)\n",
    "# Generate predictions\n",
    "predicted = linearModel.transform(test_ddf2)\n",
    "# Extract the predictions and the \"known\" correct labels\n",
    "predictions_4=predicted.select(\"prediction\").rdd.map(lambda x: x[0])\n",
    "labels_4=predicted.select(\"label\").rdd.map(lambda x: x[0])\n",
    "\n",
    "\n",
    "#-------------------------gas 5\n",
    "ddf1=ddf_1[ddf_1[\"gas_id\"]==5]\n",
    "ddf1 = ddf1.withColumn(\"price_last_week\", lag(\"avg_price\", 1).over(w))\n",
    "ddf1 = ddf1.withColumn(\"price_2_weeks_bef\", lag(\"avg_price\", 2).over(w))\n",
    "ddf1=ddf1.filter(ddf1.price_2_weeks_bef.isNotNull())\n",
    "# create dataframe composed of label and features.\n",
    "data = ddf1.rdd.map(lambda x: (x[0], DenseVector(x[3:])))\n",
    "ddf2 = spark.createDataFrame(data, [\"label\", \"features\"])\n",
    "# Initialize `linear regression\n",
    "lr = LinearRegression(labelCol=\"label\")\n",
    "train_ddf2,test_ddf2 = ddf2.randomSplit([0.7,0.3])\n",
    "# Fit the data to the model\n",
    "linearModel = lr.fit(train_ddf2)\n",
    "# Generate predictions\n",
    "predicted = linearModel.transform(test_ddf2)\n",
    "# Extract the predictions and the \"known\" correct labels\n",
    "predictions_5=predicted.select(\"prediction\").rdd.map(lambda x: x[0])\n",
    "labels_5=predicted.select(\"label\").rdd.map(lambda x: x[0])\n",
    "          \n",
    "#-------------------------gas 6\n",
    "ddf1=ddf_1[ddf_1[\"gas_id\"]==6]\n",
    "ddf1 = ddf1.withColumn(\"price_last_week\", lag(\"avg_price\", 1).over(w))\n",
    "ddf1 = ddf1.withColumn(\"price_2_weeks_bef\", lag(\"avg_price\", 2).over(w))\n",
    "ddf1=ddf1.filter(ddf1.price_2_weeks_bef.isNotNull())\n",
    "# create dataframe composed of label and features.\n",
    "data = ddf1.rdd.map(lambda x: (x[0], DenseVector(x[3:])))\n",
    "ddf2 = spark.createDataFrame(data, [\"label\", \"features\"])\n",
    "# Initialize `linear regression\n",
    "lr = LinearRegression(labelCol=\"label\")\n",
    "train_ddf2,test_ddf2 = ddf2.randomSplit([0.7,0.3])\n",
    "# Fit the data to the model\n",
    "linearModel = lr.fit(train_ddf2)\n",
    "# Generate predictions\n",
    "predicted = linearModel.transform(test_ddf2)\n",
    "# Extract the predictions and the \"known\" correct labels\n",
    "predictions_6=predicted.select(\"prediction\").rdd.map(lambda x: x[0])\n",
    "labels_6=predicted.select(\"label\").rdd.map(lambda x: x[0])\n",
    "          "
   ]
  },
  {
   "cell_type": "code",
   "execution_count": 294,
   "metadata": {},
   "outputs": [
    {
     "data": {
      "text/plain": [
       "<matplotlib.collections.PathCollection at 0x7f924ef6e1d0>"
      ]
     },
     "execution_count": 294,
     "metadata": {},
     "output_type": "execute_result"
    },
    {
     "data": {
      "image/png": "[encoded data removed]",
      "text/plain": [
       "<matplotlib.figure.Figure at 0x7f924ecdc4e0>"
      ]
     },
     "metadata": {},
     "output_type": "display_data"
    }
   ],
   "source": [
    "% matplotlib inline  \n",
    "\n",
    "plt.figure(figsize=(12,10))\n",
    "#plt.figure(1) \n",
    "plt.subplot(3,3,1) \n",
    "plt.scatter(predictions_1.collect(),labels_1.collect())\n",
    "\n",
    "plt.subplot(3,3,2) \n",
    "plt.scatter(predictions_2.collect(),labels_2.collect())\n",
    "\n",
    "\n",
    "plt.subplot(3,3,3) \n",
    "plt.scatter(predictions_3.collect(),labels_3.collect())\n",
    "\n",
    "plt.subplot(3,3,4) \n",
    "plt.scatter(predictions_4.collect(),labels_4.collect())\n",
    "\n",
    "plt.subplot(3,3,5) \n",
    "plt.scatter(predictions_5.collect(),labels_5.collect())\n",
    "\n",
    "plt.subplot(3,3,6) \n",
    "plt.scatter(predictions_6.collect(),labels_6.collect())\n"
   ]
  },
  {
   "cell_type": "markdown",
   "metadata": {},
   "source": [
    "We see that the prediction is good for every type of gas. So the  model is working for every type of gas."
   ]
  }
 ],
 "metadata": {
  "kernelspec": {
   "display_name": "Python 3",
   "language": "python",
   "name": "python3"
  },
  "language_info": {
   "codemirror_mode": {
    "name": "ipython",
    "version": 3
   },
   "file_extension": ".py",
   "mimetype": "text/x-python",
   "name": "python",
   "nbconvert_exporter": "python",
   "pygments_lexer": "ipython3",
   "version": "3.6.3"
  }
 },
 "nbformat": 4,
 "nbformat_minor": 2
}
